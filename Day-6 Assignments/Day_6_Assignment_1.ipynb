{
  "nbformat": 4,
  "nbformat_minor": 0,
  "metadata": {
    "colab": {
      "name": "Day-6_Assignment-1.ipynb",
      "provenance": []
    },
    "kernelspec": {
      "name": "python3",
      "display_name": "Python 3"
    }
  },
  "cells": [
    {
      "cell_type": "markdown",
      "metadata": {
        "id": "esipMTQ3BQfP",
        "colab_type": "text"
      },
      "source": [
        "# ***Day-6_Assignment-1***"
      ]
    },
    {
      "cell_type": "code",
      "metadata": {
        "id": "Fx6fb-44BLHy",
        "colab_type": "code",
        "colab": {}
      },
      "source": [
        "class bankAccount():\n",
        "    def __init__(self, ownerName, balance):\n",
        "        self.name = ownerName\n",
        "        self.balance = balance\n",
        "    \n",
        "    def withdraw(self, draw):\n",
        "        self.withdraw = draw\n",
        "        if self.withdraw > self.balance:\n",
        "            print(\"Insufficient funds\")\n",
        "        elif self.withdraw <= (self.balance - 1000):\n",
        "            print(self.withdraw , \" is withdrawn\")\n",
        "            self.balance -= self.withdraw\n",
        "            print(\"Current balance is \", self.balance)\n",
        "        else:\n",
        "            print(\"Minimum balance of 1000 INR should be maintained.\")\n",
        "    \n",
        "    def deposit(self, depo):\n",
        "        self.deposit = depo\n",
        "        self.balance += self.deposit\n",
        "        print(self.deposit, \" is deposited\")\n",
        "        print(\"Current balance is \", self.balance)"
      ],
      "execution_count": 95,
      "outputs": []
    },
    {
      "cell_type": "code",
      "metadata": {
        "id": "Q5MVozz5I7G9",
        "colab_type": "code",
        "colab": {}
      },
      "source": [
        "p1 = bankAccount(\"John\", 36000)"
      ],
      "execution_count": 96,
      "outputs": []
    },
    {
      "cell_type": "code",
      "metadata": {
        "id": "IqVV-oX9JW2O",
        "colab_type": "code",
        "colab": {
          "base_uri": "https://localhost:8080/",
          "height": 35
        },
        "outputId": "91684f5f-94b9-4630-c59d-548169856bd6"
      },
      "source": [
        "print(p1.balance)"
      ],
      "execution_count": 97,
      "outputs": [
        {
          "output_type": "stream",
          "text": [
            "36000\n"
          ],
          "name": "stdout"
        }
      ]
    },
    {
      "cell_type": "code",
      "metadata": {
        "id": "kn2ZatZ0JZp0",
        "colab_type": "code",
        "colab": {
          "base_uri": "https://localhost:8080/",
          "height": 35
        },
        "outputId": "abd7e5d9-3722-40ad-8a3d-51533b2f2238"
      },
      "source": [
        "p1.name"
      ],
      "execution_count": 98,
      "outputs": [
        {
          "output_type": "execute_result",
          "data": {
            "application/vnd.google.colaboratory.intrinsic+json": {
              "type": "string"
            },
            "text/plain": [
              "'John'"
            ]
          },
          "metadata": {
            "tags": []
          },
          "execution_count": 98
        }
      ]
    },
    {
      "cell_type": "code",
      "metadata": {
        "id": "yGlc9balJc8o",
        "colab_type": "code",
        "colab": {
          "base_uri": "https://localhost:8080/",
          "height": 52
        },
        "outputId": "84ad9797-303e-4132-d6a4-b80ff2911be3"
      },
      "source": [
        "p1.deposit(14000)"
      ],
      "execution_count": 99,
      "outputs": [
        {
          "output_type": "stream",
          "text": [
            "14000  is deposited\n",
            "Current balance is  50000\n"
          ],
          "name": "stdout"
        }
      ]
    },
    {
      "cell_type": "code",
      "metadata": {
        "id": "DSht6AzvJ2Ql",
        "colab_type": "code",
        "colab": {
          "base_uri": "https://localhost:8080/",
          "height": 35
        },
        "outputId": "93e2d0b1-73e2-4b85-cf4f-d0f163772322"
      },
      "source": [
        "p1.withdraw(100000)"
      ],
      "execution_count": 100,
      "outputs": [
        {
          "output_type": "stream",
          "text": [
            "Insufficient funds\n"
          ],
          "name": "stdout"
        }
      ]
    },
    {
      "cell_type": "code",
      "metadata": {
        "id": "SEpqxxTHKFJN",
        "colab_type": "code",
        "colab": {
          "base_uri": "https://localhost:8080/",
          "height": 35
        },
        "outputId": "6c8bd710-c0ab-4214-9559-3de41505e16d"
      },
      "source": [
        "p1.balance"
      ],
      "execution_count": 101,
      "outputs": [
        {
          "output_type": "execute_result",
          "data": {
            "text/plain": [
              "50000"
            ]
          },
          "metadata": {
            "tags": []
          },
          "execution_count": 101
        }
      ]
    },
    {
      "cell_type": "code",
      "metadata": {
        "id": "2a4hlWy6PI_C",
        "colab_type": "code",
        "colab": {}
      },
      "source": [
        "p2 = bankAccount(\"Elon\", 60000)"
      ],
      "execution_count": 102,
      "outputs": []
    },
    {
      "cell_type": "code",
      "metadata": {
        "id": "sOwG3mulPO1o",
        "colab_type": "code",
        "colab": {
          "base_uri": "https://localhost:8080/",
          "height": 52
        },
        "outputId": "72e5394a-44ae-496c-8a84-b1edd5e2a8d3"
      },
      "source": [
        "p2.withdraw(59000)"
      ],
      "execution_count": 103,
      "outputs": [
        {
          "output_type": "stream",
          "text": [
            "59000  is withdrawn\n",
            "Current balance is  1000\n"
          ],
          "name": "stdout"
        }
      ]
    },
    {
      "cell_type": "code",
      "metadata": {
        "id": "6NuYgnAgPS3c",
        "colab_type": "code",
        "colab": {
          "base_uri": "https://localhost:8080/",
          "height": 52
        },
        "outputId": "5e053a90-bbeb-47ee-b728-bfdf5f212611"
      },
      "source": [
        "p2.deposit(8000)"
      ],
      "execution_count": 104,
      "outputs": [
        {
          "output_type": "stream",
          "text": [
            "8000  is deposited\n",
            "Current balance is  9000\n"
          ],
          "name": "stdout"
        }
      ]
    }
  ]
}