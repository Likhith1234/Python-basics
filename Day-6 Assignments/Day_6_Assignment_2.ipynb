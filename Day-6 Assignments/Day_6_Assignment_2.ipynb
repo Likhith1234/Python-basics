{
  "nbformat": 4,
  "nbformat_minor": 0,
  "metadata": {
    "colab": {
      "name": "Day-6 Assignment-2.ipynb",
      "provenance": []
    },
    "kernelspec": {
      "name": "python3",
      "display_name": "Python 3"
    }
  },
  "cells": [
    {
      "cell_type": "markdown",
      "metadata": {
        "id": "KiA80vD8aJpp",
        "colab_type": "text"
      },
      "source": [
        "## ***Day-6 Assignment-2***"
      ]
    },
    {
      "cell_type": "code",
      "metadata": {
        "id": "xltfuJWybioH",
        "colab_type": "code",
        "colab": {}
      },
      "source": [
        "import math"
      ],
      "execution_count": 2,
      "outputs": []
    },
    {
      "cell_type": "code",
      "metadata": {
        "id": "xlBETqAPaIGq",
        "colab_type": "code",
        "colab": {}
      },
      "source": [
        "class cone:\n",
        "    def __init__(self, radius, height):\n",
        "        self.radius = radius\n",
        "        self.height = height\n",
        "\n",
        "    def volume(self):\n",
        "        self.volume = (3.14 * self.radius * self.radius * self.height) / 3\n",
        "        print(self.volume, \" cubic units\")\n",
        "\n",
        "    def surfaceArea(self):\n",
        "        self.sa = 3.14 * self.radius * (self.radius + math.sqrt((self.radius * self.radius) + self.height * self.height))\n",
        "        print(self.sa, \" square units\")"
      ],
      "execution_count": 19,
      "outputs": []
    },
    {
      "cell_type": "code",
      "metadata": {
        "id": "ZzAZJeQtbmOu",
        "colab_type": "code",
        "colab": {}
      },
      "source": [
        "c1 = cone(3,5)"
      ],
      "execution_count": 20,
      "outputs": []
    },
    {
      "cell_type": "code",
      "metadata": {
        "id": "EgnQy2Mabt9K",
        "colab_type": "code",
        "colab": {
          "base_uri": "https://localhost:8080/",
          "height": 35
        },
        "outputId": "e1b3f091-bc18-4c22-fe08-ae9b9b7ad95e"
      },
      "source": [
        "c1.radius"
      ],
      "execution_count": 21,
      "outputs": [
        {
          "output_type": "execute_result",
          "data": {
            "text/plain": [
              "3"
            ]
          },
          "metadata": {
            "tags": []
          },
          "execution_count": 21
        }
      ]
    },
    {
      "cell_type": "code",
      "metadata": {
        "id": "yNaD3YFObxyK",
        "colab_type": "code",
        "colab": {
          "base_uri": "https://localhost:8080/",
          "height": 35
        },
        "outputId": "f602a808-149b-462e-9329-863f5352005a"
      },
      "source": [
        "c1.height"
      ],
      "execution_count": 22,
      "outputs": [
        {
          "output_type": "execute_result",
          "data": {
            "text/plain": [
              "5"
            ]
          },
          "metadata": {
            "tags": []
          },
          "execution_count": 22
        }
      ]
    },
    {
      "cell_type": "code",
      "metadata": {
        "id": "qAanJ4IJcFlo",
        "colab_type": "code",
        "colab": {
          "base_uri": "https://localhost:8080/",
          "height": 35
        },
        "outputId": "791c0a85-50a0-4064-b3ca-5fdd8f9bae66"
      },
      "source": [
        "c1.volume()"
      ],
      "execution_count": 23,
      "outputs": [
        {
          "output_type": "stream",
          "text": [
            "47.099999999999994  cubic units\n"
          ],
          "name": "stdout"
        }
      ]
    },
    {
      "cell_type": "code",
      "metadata": {
        "id": "56f5ciIZcHX6",
        "colab_type": "code",
        "colab": {
          "base_uri": "https://localhost:8080/",
          "height": 35
        },
        "outputId": "69707cf0-4ece-453d-f910-43ed0657e814"
      },
      "source": [
        "c1.surfaceArea()"
      ],
      "execution_count": 25,
      "outputs": [
        {
          "output_type": "stream",
          "text": [
            "83.18756684944273  square units\n"
          ],
          "name": "stdout"
        }
      ]
    }
  ]
}