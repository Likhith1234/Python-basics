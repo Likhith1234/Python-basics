{
  "nbformat": 4,
  "nbformat_minor": 0,
  "metadata": {
    "colab": {
      "name": "Day-5_Assignment-3.ipynb",
      "provenance": []
    },
    "kernelspec": {
      "name": "python3",
      "display_name": "Python 3"
    }
  },
  "cells": [
    {
      "cell_type": "markdown",
      "metadata": {
        "id": "V29VO8Lu--nl",
        "colab_type": "text"
      },
      "source": [
        "# ***Day-5 Assignment-3***"
      ]
    },
    {
      "cell_type": "code",
      "metadata": {
        "id": "UaVL_KWi94kl",
        "colab_type": "code",
        "colab": {}
      },
      "source": [
        "lst = [\"hello everyone\", \"good morning to all of you\", \"hope you all are doing good\"]"
      ],
      "execution_count": 1,
      "outputs": []
    },
    {
      "cell_type": "code",
      "metadata": {
        "id": "_ax5F4jj-UZ4",
        "colab_type": "code",
        "colab": {}
      },
      "source": [
        "res = map(lambda l: l.title() , lst)"
      ],
      "execution_count": 2,
      "outputs": []
    },
    {
      "cell_type": "code",
      "metadata": {
        "id": "gFBDDGN2-46G",
        "colab_type": "code",
        "colab": {
          "base_uri": "https://localhost:8080/",
          "height": 35
        },
        "outputId": "2f4f1ab4-bb58-411e-ee83-d520410a740f"
      },
      "source": [
        "print(list(res))"
      ],
      "execution_count": 3,
      "outputs": [
        {
          "output_type": "stream",
          "text": [
            "['Hello Everyone', 'Good Morning To All Of You', 'Hope You All Are Doing Good']\n"
          ],
          "name": "stdout"
        }
      ]
    }
  ]
}