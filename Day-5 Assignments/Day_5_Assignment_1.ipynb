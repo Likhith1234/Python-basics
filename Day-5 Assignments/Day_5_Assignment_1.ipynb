{
  "nbformat": 4,
  "nbformat_minor": 0,
  "metadata": {
    "colab": {
      "name": "Day-5_Assignment-1.ipynb",
      "provenance": []
    },
    "kernelspec": {
      "name": "python3",
      "display_name": "Python 3"
    }
  },
  "cells": [
    {
      "cell_type": "markdown",
      "metadata": {
        "id": "tOBHYopa3WoL",
        "colab_type": "text"
      },
      "source": [
        "# ***Day-5 Assignment-1***"
      ]
    },
    {
      "cell_type": "code",
      "metadata": {
        "id": "wQFmmNlq3VDm",
        "colab_type": "code",
        "colab": {}
      },
      "source": [
        "lst1 = [1, 5, 2, 3, 1, 4, 5]"
      ],
      "execution_count": 1,
      "outputs": []
    },
    {
      "cell_type": "code",
      "metadata": {
        "id": "yYKQdG1T3tVg",
        "colab_type": "code",
        "colab": {}
      },
      "source": [
        "lst2 = [5, 4, 1, 2, 1, 4, 3]"
      ],
      "execution_count": 2,
      "outputs": []
    },
    {
      "cell_type": "code",
      "metadata": {
        "id": "XtpNGCcN3y5x",
        "colab_type": "code",
        "colab": {}
      },
      "source": [
        "def check(lst):\n",
        "    for i in range(len(lst)):\n",
        "        if lst[i] == 1:\n",
        "            for j in range(i+1, len(lst)):\n",
        "                if lst[j] == 1:\n",
        "                    for k in range(j+1, len(lst)):\n",
        "                        if lst[k] == 5:\n",
        "                            res = \"It's a match\"\n",
        "                        else:\n",
        "                            res = \"It's gone\"\n",
        "    print(res)"
      ],
      "execution_count": 9,
      "outputs": []
    },
    {
      "cell_type": "code",
      "metadata": {
        "id": "RH0mSA6z5YJU",
        "colab_type": "code",
        "colab": {
          "base_uri": "https://localhost:8080/",
          "height": 35
        },
        "outputId": "552f756d-ba33-49b9-f7a2-3ec1d8b85fff"
      },
      "source": [
        "check(lst1)"
      ],
      "execution_count": 11,
      "outputs": [
        {
          "output_type": "stream",
          "text": [
            "It's a match\n"
          ],
          "name": "stdout"
        }
      ]
    },
    {
      "cell_type": "code",
      "metadata": {
        "id": "xapmFAel6J0k",
        "colab_type": "code",
        "colab": {
          "base_uri": "https://localhost:8080/",
          "height": 35
        },
        "outputId": "b8c8f069-a2db-4383-cd0f-34b59a3675dc"
      },
      "source": [
        "check(lst2)"
      ],
      "execution_count": 12,
      "outputs": [
        {
          "output_type": "stream",
          "text": [
            "It's gone\n"
          ],
          "name": "stdout"
        }
      ]
    }
  ]
}