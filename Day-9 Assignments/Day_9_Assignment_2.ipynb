{
  "nbformat": 4,
  "nbformat_minor": 0,
  "metadata": {
    "colab": {
      "name": "Day-9_Assignment-2.ipynb",
      "provenance": []
    },
    "kernelspec": {
      "name": "python3",
      "display_name": "Python 3"
    }
  },
  "cells": [
    {
      "cell_type": "markdown",
      "metadata": {
        "id": "7FHnuB7zHGSo",
        "colab_type": "text"
      },
      "source": [
        "### ***Day-9 Assignment-2***"
      ]
    },
    {
      "cell_type": "code",
      "metadata": {
        "id": "ZIbhffbJFr9b",
        "colab_type": "code",
        "colab": {}
      },
      "source": [
        "lst = list(range(1, 1000))"
      ],
      "execution_count": 26,
      "outputs": []
    },
    {
      "cell_type": "code",
      "metadata": {
        "id": "zEQ4P9ZlHVOj",
        "colab_type": "code",
        "colab": {}
      },
      "source": [
        "def armStrongGen(lst):\n",
        "  for i in lst:\n",
        "    sum = 0\n",
        "    n = i\n",
        "    l = len(str(i))\n",
        "    while n>0:\n",
        "      a = n%10\n",
        "      sum = sum + (a**l)\n",
        "      n //= 10\n",
        "    if sum == i:\n",
        "      yield i"
      ],
      "execution_count": 27,
      "outputs": []
    },
    {
      "cell_type": "code",
      "metadata": {
        "id": "7z18xe5fHeTf",
        "colab_type": "code",
        "colab": {}
      },
      "source": [
        "res = list(armStrongGen(lst))"
      ],
      "execution_count": 28,
      "outputs": []
    },
    {
      "cell_type": "code",
      "metadata": {
        "id": "TBrhWesUDjUp",
        "colab_type": "code",
        "colab": {
          "base_uri": "https://localhost:8080/",
          "height": 35
        },
        "outputId": "4be6f9c5-8ff2-4a72-bce1-d975d0b8ade3"
      },
      "source": [
        "print(res)"
      ],
      "execution_count": 29,
      "outputs": [
        {
          "output_type": "stream",
          "text": [
            "[1, 2, 3, 4, 5, 6, 7, 8, 9, 153, 370, 371, 407]\n"
          ],
          "name": "stdout"
        }
      ]
    }
  ]
}