{
  "nbformat": 4,
  "nbformat_minor": 0,
  "metadata": {
    "colab": {
      "name": "Day-4_Assignment.ipynb",
      "provenance": []
    },
    "kernelspec": {
      "name": "python3",
      "display_name": "Python 3"
    }
  },
  "cells": [
    {
      "cell_type": "code",
      "metadata": {
        "id": "Rt4M6dg55VtB",
        "colab_type": "code",
        "colab": {
          "base_uri": "https://localhost:8080/",
          "height": 191
        },
        "outputId": "c11dbadb-0980-486f-ca92-d4cbfe186776"
      },
      "source": [
        "sum = 0\n",
        "for i in range(1042000,702648265):\n",
        "    j = i\n",
        "    s = str(i)\n",
        "    l = len(s)\n",
        "    while (j > 0):\n",
        "        n = j%10\n",
        "        sum = sum + (n**l)\n",
        "        j //= 10\n",
        "    if sum == i:\n",
        "        print(i)\n",
        "    sum = 0"
      ],
      "execution_count": 1,
      "outputs": [
        {
          "output_type": "stream",
          "text": [
            "1741725\n",
            "4210818\n",
            "9800817\n",
            "9926315\n",
            "24678050\n",
            "24678051\n",
            "88593477\n",
            "146511208\n",
            "472335975\n",
            "534494836\n"
          ],
          "name": "stdout"
        }
      ]
    },
    {
      "cell_type": "code",
      "metadata": {
        "id": "pYD1dr407lna",
        "colab_type": "code",
        "colab": {}
      },
      "source": [
        ""
      ],
      "execution_count": null,
      "outputs": []
    }
  ]
}