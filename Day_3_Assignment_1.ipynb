{
  "nbformat": 4,
  "nbformat_minor": 0,
  "metadata": {
    "colab": {
      "name": "Day-3_Assignment- 1.ipynb",
      "provenance": []
    },
    "kernelspec": {
      "name": "python3",
      "display_name": "Python 3"
    }
  },
  "cells": [
    {
      "cell_type": "markdown",
      "metadata": {
        "id": "enJIWu2Y1FPn",
        "colab_type": "text"
      },
      "source": [
        "# Day-3 Assignment-***1***"
      ]
    },
    {
      "cell_type": "code",
      "metadata": {
        "id": "tdIwOadnzFvX",
        "colab_type": "code",
        "colab": {
          "base_uri": "https://localhost:8080/",
          "height": 35
        },
        "outputId": "759601a5-218f-48d5-9dd8-a5f818cadc81"
      },
      "source": [
        "altitude = int(input(\"Enter the current altitude: \"))"
      ],
      "execution_count": 8,
      "outputs": [
        {
          "output_type": "stream",
          "text": [
            "Enter the current altitude: -150\n"
          ],
          "name": "stdout"
        }
      ]
    },
    {
      "cell_type": "code",
      "metadata": {
        "id": "qzes1KBgzW2G",
        "colab_type": "code",
        "colab": {
          "base_uri": "https://localhost:8080/",
          "height": 35
        },
        "outputId": "410170f3-39d0-441d-b441-94a7ab9c7cae"
      },
      "source": [
        "if (altitude > 0) and (altitude <= 1000):\n",
        "    print(\"Safe to land\")\n",
        "elif (altitude > 1000) and (altitude <= 5000):\n",
        "    print(\"Bring down to 1000ft\")\n",
        "elif (altitude > 5000):\n",
        "    print(\"Turn around and attempt later\")\n",
        "else:\n",
        "    print(\"Invalid Input\")        # if input is given less than 0"
      ],
      "execution_count": 9,
      "outputs": [
        {
          "output_type": "stream",
          "text": [
            "Invalid Input\n"
          ],
          "name": "stdout"
        }
      ]
    }
  ]
}