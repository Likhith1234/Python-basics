{
  "nbformat": 4,
  "nbformat_minor": 0,
  "metadata": {
    "colab": {
      "name": "Day-8_Assignment-1.ipynb",
      "provenance": []
    },
    "kernelspec": {
      "name": "python3",
      "display_name": "Python 3"
    }
  },
  "cells": [
    {
      "cell_type": "markdown",
      "metadata": {
        "id": "meOH48a1K16W",
        "colab_type": "text"
      },
      "source": [
        "# ***FIBONACCI SERIES***"
      ]
    },
    {
      "cell_type": "code",
      "metadata": {
        "id": "myuYZ3zwFZso",
        "colab_type": "code",
        "colab": {}
      },
      "source": [
        "def operations(operation_function):\n",
        "  def inputFunc():\n",
        "    a = int(input(\"Enter the first integer: \"))\n",
        "    b = int(input(\"Enter the second integer: \"))\n",
        "    len = int(input(\"Enter the number upto where the seies has to be printed: \"))\n",
        "    operation_function(a, b, len)\n",
        "  return inputFunc"
      ],
      "execution_count": 23,
      "outputs": []
    },
    {
      "cell_type": "code",
      "metadata": {
        "id": "0AnT7xGAGeR5",
        "colab_type": "code",
        "colab": {}
      },
      "source": [
        "@operations\n",
        "def fibonacci(num1, num2, l):\n",
        "  print(\"---FIBONACCI SERIES---\")\n",
        "  i = 0\n",
        "  lst = [num1, num2]\n",
        "  while(i < (l-2)):\n",
        "    temp = num1 + num2\n",
        "    lst.append(temp)\n",
        "    num1 = num2\n",
        "    num2 = temp\n",
        "    i += 1\n",
        "  print(lst)"
      ],
      "execution_count": 24,
      "outputs": []
    },
    {
      "cell_type": "code",
      "metadata": {
        "id": "RhNzdRCcH9K2",
        "colab_type": "code",
        "colab": {
          "base_uri": "https://localhost:8080/",
          "height": 104
        },
        "outputId": "0eae637c-94e3-44f9-d3d1-03386e371650"
      },
      "source": [
        "fibonacci()"
      ],
      "execution_count": 25,
      "outputs": [
        {
          "output_type": "stream",
          "text": [
            "Enter the first integer: 0\n",
            "Enter the second integer: 1\n",
            "Enter the number upto where the seies has to be printed: 6\n",
            "---FIBONACCI SERIES---\n",
            "[0, 1, 1, 2, 3, 5]\n"
          ],
          "name": "stdout"
        }
      ]
    }
  ]
}