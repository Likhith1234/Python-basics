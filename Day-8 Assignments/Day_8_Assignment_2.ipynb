{
  "nbformat": 4,
  "nbformat_minor": 0,
  "metadata": {
    "colab": {
      "name": "Day-8_Assignment-2.ipynb",
      "provenance": []
    },
    "kernelspec": {
      "name": "python3",
      "display_name": "Python 3"
    }
  },
  "cells": [
    {
      "cell_type": "markdown",
      "metadata": {
        "id": "eB4IMwld7m34",
        "colab_type": "text"
      },
      "source": [
        "### ***Day-8 Assignment-2***"
      ]
    },
    {
      "cell_type": "code",
      "metadata": {
        "id": "RzZQaPHw7lNf",
        "colab_type": "code",
        "colab": {
          "base_uri": "https://localhost:8080/",
          "height": 35
        },
        "outputId": "18d3f617-da82-4a36-8f70-20ccb9a08af4"
      },
      "source": [
        "%%writefile hello.txt\n",
        "\n",
        "Hello World\n",
        "Hi Everyone\n",
        "How are you all??"
      ],
      "execution_count": 10,
      "outputs": [
        {
          "output_type": "stream",
          "text": [
            "Overwriting hello.txt\n"
          ],
          "name": "stdout"
        }
      ]
    },
    {
      "cell_type": "code",
      "metadata": {
        "id": "apQjw0qpCkjE",
        "colab_type": "code",
        "colab": {
          "base_uri": "https://localhost:8080/",
          "height": 35
        },
        "outputId": "a9cda706-da26-4b23-cfeb-c6941e23abe2"
      },
      "source": [
        "try:\n",
        "  file = open(\"hello.txt\", \"rt\")\n",
        "  file.write(\"My name is Likhith\")\n",
        "  data = file.read()\n",
        "  print(data)\n",
        "  file.close()\n",
        "except Exception as e:\n",
        "  print(e)"
      ],
      "execution_count": 11,
      "outputs": [
        {
          "output_type": "stream",
          "text": [
            "not writable\n"
          ],
          "name": "stdout"
        }
      ]
    }
  ]
}