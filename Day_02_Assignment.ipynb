{
  "nbformat": 4,
  "nbformat_minor": 0,
  "metadata": {
    "colab": {
      "name": "Day-02-Assignment.ipynb",
      "provenance": []
    },
    "kernelspec": {
      "name": "python3",
      "display_name": "Python 3"
    }
  },
  "cells": [
    {
      "cell_type": "markdown",
      "metadata": {
        "id": "n9h3cpNH2KXY",
        "colab_type": "text"
      },
      "source": [
        "## ***LIST***"
      ]
    },
    {
      "cell_type": "code",
      "metadata": {
        "id": "BY9-fObIzFkq",
        "colab_type": "code",
        "colab": {}
      },
      "source": [
        "l = [1, 2, 3, 3, 5, 1, 1]"
      ],
      "execution_count": 3,
      "outputs": []
    },
    {
      "cell_type": "code",
      "metadata": {
        "id": "QM6hkNb8zd4j",
        "colab_type": "code",
        "colab": {
          "base_uri": "https://localhost:8080/",
          "height": 52
        },
        "outputId": "d5902465-585a-48bf-bf0b-6e71d4e8c325"
      },
      "source": [
        "a = l.append(7)\n",
        "print(a)    # appends the new element the end of the list and returns \"None\"\n",
        "print(l)"
      ],
      "execution_count": 23,
      "outputs": [
        {
          "output_type": "stream",
          "text": [
            "None\n",
            "[1, 2, 3, 4, 5, 5, 7, 7, 7, 7]\n"
          ],
          "name": "stdout"
        }
      ]
    },
    {
      "cell_type": "code",
      "metadata": {
        "id": "SSDGdJ810IUB",
        "colab_type": "code",
        "colab": {
          "base_uri": "https://localhost:8080/",
          "height": 52
        },
        "outputId": "aafd85cf-a67e-45af-9ade-fd9c4d5b7c41"
      },
      "source": [
        "p = l.insert(2, 5)\n",
        "print(p)    # inserts a new element (2nd argument) at the specified index (passed as 1st argument) and returns \"None\"\n",
        "print(l)"
      ],
      "execution_count": 25,
      "outputs": [
        {
          "output_type": "stream",
          "text": [
            "None\n",
            "[1, 2, 5, 5, 3, 4, 5, 5, 7, 7, 7, 7]\n"
          ],
          "name": "stdout"
        }
      ]
    },
    {
      "cell_type": "code",
      "metadata": {
        "id": "VA4dGHzy0nE5",
        "colab_type": "code",
        "colab": {
          "base_uri": "https://localhost:8080/",
          "height": 52
        },
        "outputId": "fe39fcd3-6dd8-4406-fa7b-15363c6b8f8c"
      },
      "source": [
        "s = l.sort()\n",
        "print(s)     # sort() method modifies the list and retirns \"None\" \n",
        "print(l)     # prints the newly modified list"
      ],
      "execution_count": 22,
      "outputs": [
        {
          "output_type": "stream",
          "text": [
            "None\n",
            "[1, 2, 3, 4, 5, 5, 7, 7, 7]\n"
          ],
          "name": "stdout"
        }
      ]
    },
    {
      "cell_type": "code",
      "metadata": {
        "id": "jkOSAY-100pr",
        "colab_type": "code",
        "colab": {
          "base_uri": "https://localhost:8080/",
          "height": 52
        },
        "outputId": "64b6c3b3-6e63-426b-f794-aaeca66b7a90"
      },
      "source": [
        "p1 = l.pop()\n",
        "print(p1)    # pop() method returns the last indexed element, if no argument is passed\n",
        "print(l)     # pop() removes the last index element, if no argument is passed"
      ],
      "execution_count": 28,
      "outputs": [
        {
          "output_type": "stream",
          "text": [
            "7\n",
            "[1, 2, 5, 5, 3, 4, 5, 5, 7]\n"
          ],
          "name": "stdout"
        }
      ]
    },
    {
      "cell_type": "code",
      "metadata": {
        "id": "B223Rnia2IFw",
        "colab_type": "code",
        "colab": {
          "base_uri": "https://localhost:8080/",
          "height": 35
        },
        "outputId": "593463de-8e2f-4d31-97e9-17eefc971bb9"
      },
      "source": [
        "p2 = l.pop(3)\n",
        "print(p2, l) # pop() method removes the element at the index passed as argument and returns it in variable 'p2'"
      ],
      "execution_count": 30,
      "outputs": [
        {
          "output_type": "stream",
          "text": [
            "3 [1, 2, 5, 4, 5, 5, 7]\n"
          ],
          "name": "stdout"
        }
      ]
    },
    {
      "cell_type": "code",
      "metadata": {
        "id": "MOBf5ULX2tuC",
        "colab_type": "code",
        "colab": {
          "base_uri": "https://localhost:8080/",
          "height": 35
        },
        "outputId": "86bf625a-c81c-4615-fea6-2d775c9d1e3a"
      },
      "source": [
        "r = l.index(5)\n",
        "print(r)     # prints out the index number of element \"5\" at it's first occurence in the list"
      ],
      "execution_count": 32,
      "outputs": [
        {
          "output_type": "stream",
          "text": [
            "2\n"
          ],
          "name": "stdout"
        }
      ]
    },
    {
      "cell_type": "markdown",
      "metadata": {
        "id": "KilKnm1P34qI",
        "colab_type": "text"
      },
      "source": [
        "# ***Tuple***"
      ]
    },
    {
      "cell_type": "code",
      "metadata": {
        "id": "9zIIu8ws4AdV",
        "colab_type": "code",
        "colab": {}
      },
      "source": [
        "tup = (\"a\", \"b\", \"c\")"
      ],
      "execution_count": 33,
      "outputs": []
    },
    {
      "cell_type": "code",
      "metadata": {
        "id": "Y5oMa0HA4x9D",
        "colab_type": "code",
        "colab": {
          "base_uri": "https://localhost:8080/",
          "height": 35
        },
        "outputId": "c1c78d75-ab0c-4bc6-e95d-c03985992d7d"
      },
      "source": [
        "tup.index(\"b\")    # returns the index number of the passed element"
      ],
      "execution_count": 35,
      "outputs": [
        {
          "output_type": "execute_result",
          "data": {
            "text/plain": [
              "1"
            ]
          },
          "metadata": {
            "tags": []
          },
          "execution_count": 35
        }
      ]
    },
    {
      "cell_type": "code",
      "metadata": {
        "id": "1SEXHzGA44eu",
        "colab_type": "code",
        "colab": {
          "base_uri": "https://localhost:8080/",
          "height": 35
        },
        "outputId": "842d1fe8-2d95-45e0-c9af-d8dc6fc06174"
      },
      "source": [
        "tup.count(\"c\")    # returns number of times the element is repeated"
      ],
      "execution_count": 37,
      "outputs": [
        {
          "output_type": "execute_result",
          "data": {
            "text/plain": [
              "1"
            ]
          },
          "metadata": {
            "tags": []
          },
          "execution_count": 37
        }
      ]
    },
    {
      "cell_type": "markdown",
      "metadata": {
        "id": "ZPfCmKTZ5cvD",
        "colab_type": "text"
      },
      "source": [
        "# ***Sets***"
      ]
    },
    {
      "cell_type": "code",
      "metadata": {
        "id": "6FMp2Xt35guB",
        "colab_type": "code",
        "colab": {}
      },
      "source": [
        "st = {\"1\", 1, \"a\", 2}"
      ],
      "execution_count": 42,
      "outputs": []
    },
    {
      "cell_type": "code",
      "metadata": {
        "id": "4dk8IeMn5s7V",
        "colab_type": "code",
        "colab": {
          "base_uri": "https://localhost:8080/",
          "height": 35
        },
        "outputId": "f8b22a9f-ba93-4353-f48b-ab7ca3559224"
      },
      "source": [
        "ad = st.add(\"d\")  # adds a new element to the set and returns \"None\"\n",
        "print(ad, st)"
      ],
      "execution_count": 47,
      "outputs": [
        {
          "output_type": "stream",
          "text": [
            "None {1, 2, 'a', 'd', '1'}\n"
          ],
          "name": "stdout"
        }
      ]
    },
    {
      "cell_type": "code",
      "metadata": {
        "id": "teXeDVWy55Y9",
        "colab_type": "code",
        "colab": {
          "base_uri": "https://localhost:8080/",
          "height": 35
        },
        "outputId": "39d63d4d-fe5e-45a1-9094-7a7ce7a908b0"
      },
      "source": [
        "st.pop() # removes any one of the element from the set and returns that element"
      ],
      "execution_count": 49,
      "outputs": [
        {
          "output_type": "execute_result",
          "data": {
            "text/plain": [
              "2"
            ]
          },
          "metadata": {
            "tags": []
          },
          "execution_count": 49
        }
      ]
    },
    {
      "cell_type": "code",
      "metadata": {
        "id": "jbSLUrDS6y1m",
        "colab_type": "code",
        "colab": {
          "base_uri": "https://localhost:8080/",
          "height": 35
        },
        "outputId": "cd499350-33ce-430b-b444-c0f81a6d6675"
      },
      "source": [
        "st.update(\"b\", \"c\", \"d\")     # update() method is used to add multiple elements to the set at a time\n",
        "print(st)"
      ],
      "execution_count": 53,
      "outputs": [
        {
          "output_type": "stream",
          "text": [
            "{'a', 'c', 'd', 'b', '1'}\n"
          ],
          "name": "stdout"
        }
      ]
    },
    {
      "cell_type": "code",
      "metadata": {
        "id": "JAAvsn4G7P46",
        "colab_type": "code",
        "colab": {}
      },
      "source": [
        "st1 = {\"a\", \"b\", \"c\"}"
      ],
      "execution_count": 54,
      "outputs": []
    },
    {
      "cell_type": "code",
      "metadata": {
        "id": "SN55NPVZ7Zgm",
        "colab_type": "code",
        "colab": {
          "base_uri": "https://localhost:8080/",
          "height": 35
        },
        "outputId": "05128989-8f39-47df-f0ad-3df292060dd6"
      },
      "source": [
        "st1.issubset(st)      # returns \"True\" if 'st1' is subset of 'st' orelse False"
      ],
      "execution_count": 55,
      "outputs": [
        {
          "output_type": "execute_result",
          "data": {
            "text/plain": [
              "True"
            ]
          },
          "metadata": {
            "tags": []
          },
          "execution_count": 55
        }
      ]
    },
    {
      "cell_type": "code",
      "metadata": {
        "id": "LUuf34Fu7dTM",
        "colab_type": "code",
        "colab": {
          "base_uri": "https://localhost:8080/",
          "height": 35
        },
        "outputId": "33e46d03-c8de-4cc5-a54d-71e6219d3111"
      },
      "source": [
        "st.issuperset(st1)  # returns \"True\" if 'st' is superset of 'st1' orelse False"
      ],
      "execution_count": 59,
      "outputs": [
        {
          "output_type": "execute_result",
          "data": {
            "text/plain": [
              "True"
            ]
          },
          "metadata": {
            "tags": []
          },
          "execution_count": 59
        }
      ]
    },
    {
      "cell_type": "code",
      "metadata": {
        "id": "xOFY0PLi7yA5",
        "colab_type": "code",
        "colab": {
          "base_uri": "https://localhost:8080/",
          "height": 35
        },
        "outputId": "dd3d92b1-bf9f-41f4-d879-355d3a7991c9"
      },
      "source": [
        "st.clear()          # clear() method just makes the set empty\n",
        "st                  # empty set is representated by \"set()\"\""
      ],
      "execution_count": 62,
      "outputs": [
        {
          "output_type": "execute_result",
          "data": {
            "text/plain": [
              "set()"
            ]
          },
          "metadata": {
            "tags": []
          },
          "execution_count": 62
        }
      ]
    },
    {
      "cell_type": "markdown",
      "metadata": {
        "id": "Pzt9EeHh8pTf",
        "colab_type": "text"
      },
      "source": [
        "## `***Strings***`"
      ]
    },
    {
      "cell_type": "code",
      "metadata": {
        "id": "pASfy3vd8uFe",
        "colab_type": "code",
        "colab": {}
      },
      "source": [
        "str1 = \"hello world\""
      ],
      "execution_count": 63,
      "outputs": []
    },
    {
      "cell_type": "code",
      "metadata": {
        "id": "KxR3iFcM84fs",
        "colab_type": "code",
        "colab": {
          "base_uri": "https://localhost:8080/",
          "height": 35
        },
        "outputId": "0004156b-130d-4a43-c8ed-95483e95c788"
      },
      "source": [
        "str1.endswith(\"1\")       # returns a boolen value basing on the last character "
      ],
      "execution_count": 66,
      "outputs": [
        {
          "output_type": "execute_result",
          "data": {
            "text/plain": [
              "False"
            ]
          },
          "metadata": {
            "tags": []
          },
          "execution_count": 66
        }
      ]
    },
    {
      "cell_type": "code",
      "metadata": {
        "id": "1pMQHiNA8-PK",
        "colab_type": "code",
        "colab": {
          "base_uri": "https://localhost:8080/",
          "height": 35
        },
        "outputId": "e1758e6c-b4a0-4131-84ed-93b9a9e90863"
      },
      "source": [
        "str1.index(\"l\")         # returns the index number of the element's 1st occurance"
      ],
      "execution_count": 68,
      "outputs": [
        {
          "output_type": "execute_result",
          "data": {
            "text/plain": [
              "2"
            ]
          },
          "metadata": {
            "tags": []
          },
          "execution_count": 68
        }
      ]
    },
    {
      "cell_type": "code",
      "metadata": {
        "id": "fytsr7sk9jT9",
        "colab_type": "code",
        "colab": {
          "base_uri": "https://localhost:8080/",
          "height": 35
        },
        "outputId": "2b168908-3084-476c-9ac4-6885d6a9eef5"
      },
      "source": [
        "str1.upper()            # makes all the characters of the string to upper-case"
      ],
      "execution_count": 69,
      "outputs": [
        {
          "output_type": "execute_result",
          "data": {
            "application/vnd.google.colaboratory.intrinsic+json": {
              "type": "string"
            },
            "text/plain": [
              "'HELLO WORLD'"
            ]
          },
          "metadata": {
            "tags": []
          },
          "execution_count": 69
        }
      ]
    },
    {
      "cell_type": "code",
      "metadata": {
        "id": "GAxOzasu9wD8",
        "colab_type": "code",
        "colab": {
          "base_uri": "https://localhost:8080/",
          "height": 35
        },
        "outputId": "9f74b7c9-663d-4215-a229-c9123a4c15ca"
      },
      "source": [
        "str1.lower()             # makes all the characters of the string to lower-case"
      ],
      "execution_count": 70,
      "outputs": [
        {
          "output_type": "execute_result",
          "data": {
            "application/vnd.google.colaboratory.intrinsic+json": {
              "type": "string"
            },
            "text/plain": [
              "'hello world'"
            ]
          },
          "metadata": {
            "tags": []
          },
          "execution_count": 70
        }
      ]
    },
    {
      "cell_type": "code",
      "metadata": {
        "id": "OOPc4iN6-Bsi",
        "colab_type": "code",
        "colab": {
          "base_uri": "https://localhost:8080/",
          "height": 35
        },
        "outputId": "9fadd25c-50fd-4d80-d958-840d03a035e0"
      },
      "source": [
        "str1.replace(\"world\", \"python\")     # replace the 1st argument with the 2nd argument"
      ],
      "execution_count": 71,
      "outputs": [
        {
          "output_type": "execute_result",
          "data": {
            "application/vnd.google.colaboratory.intrinsic+json": {
              "type": "string"
            },
            "text/plain": [
              "'hello python'"
            ]
          },
          "metadata": {
            "tags": []
          },
          "execution_count": 71
        }
      ]
    },
    {
      "cell_type": "markdown",
      "metadata": {
        "id": "AObcOgKN-RE9",
        "colab_type": "text"
      },
      "source": [
        "## ***Dictionary***"
      ]
    },
    {
      "cell_type": "code",
      "metadata": {
        "id": "CDEZ0zqQ-VEH",
        "colab_type": "code",
        "colab": {}
      },
      "source": [
        "dic = {\"name\" : \"Likhith\", \"age\" :  18, \"number\" : 12345}"
      ],
      "execution_count": 22,
      "outputs": []
    },
    {
      "cell_type": "code",
      "metadata": {
        "id": "6mhcelO4emWF",
        "colab_type": "code",
        "colab": {
          "base_uri": "https://localhost:8080/",
          "height": 35
        },
        "outputId": "ab200e28-9c30-4042-a66e-a287704f7d8e"
      },
      "source": [
        "dic.keys()        # returns the list of keys in the dictionary"
      ],
      "execution_count": 24,
      "outputs": [
        {
          "output_type": "execute_result",
          "data": {
            "text/plain": [
              "dict_keys(['name', 'age', 'number'])"
            ]
          },
          "metadata": {
            "tags": []
          },
          "execution_count": 24
        }
      ]
    },
    {
      "cell_type": "code",
      "metadata": {
        "id": "5NXf_WmZerWG",
        "colab_type": "code",
        "colab": {
          "base_uri": "https://localhost:8080/",
          "height": 35
        },
        "outputId": "96786670-c224-453f-af4b-be57ed0d340b"
      },
      "source": [
        "dic.values()      # returns the list of values in the ductionary"
      ],
      "execution_count": 25,
      "outputs": [
        {
          "output_type": "execute_result",
          "data": {
            "text/plain": [
              "dict_values(['Likhith', 18, 12345])"
            ]
          },
          "metadata": {
            "tags": []
          },
          "execution_count": 25
        }
      ]
    },
    {
      "cell_type": "code",
      "metadata": {
        "id": "8fU1_zHQet05",
        "colab_type": "code",
        "colab": {
          "base_uri": "https://localhost:8080/",
          "height": 35
        },
        "outputId": "156c7b98-b60c-4fa7-cb86-199cd36b1be9"
      },
      "source": [
        "dic.items()       # returns all the key-value pairs as a tuple in the form of a list"
      ],
      "execution_count": 26,
      "outputs": [
        {
          "output_type": "execute_result",
          "data": {
            "text/plain": [
              "dict_items([('name', 'Likhith'), ('age', 18), ('number', 12345)])"
            ]
          },
          "metadata": {
            "tags": []
          },
          "execution_count": 26
        }
      ]
    },
    {
      "cell_type": "code",
      "metadata": {
        "id": "J8h5btybewS8",
        "colab_type": "code",
        "colab": {
          "base_uri": "https://localhost:8080/",
          "height": 35
        },
        "outputId": "4db25e3a-8404-4fb2-830d-407612087377"
      },
      "source": [
        "dic.popitem()     # removes the last inserted key-value pair from the dc=ictionary and returns it"
      ],
      "execution_count": 27,
      "outputs": [
        {
          "output_type": "execute_result",
          "data": {
            "text/plain": [
              "('number', 12345)"
            ]
          },
          "metadata": {
            "tags": []
          },
          "execution_count": 27
        }
      ]
    },
    {
      "cell_type": "code",
      "metadata": {
        "id": "UEtQfKvqe0iG",
        "colab_type": "code",
        "colab": {
          "base_uri": "https://localhost:8080/",
          "height": 35
        },
        "outputId": "0f5d5a73-eaf3-46e2-d738-e4428b03f77d"
      },
      "source": [
        "dic.get(\"name\")   # returns the value of the specified key"
      ],
      "execution_count": 28,
      "outputs": [
        {
          "output_type": "execute_result",
          "data": {
            "application/vnd.google.colaboratory.intrinsic+json": {
              "type": "string"
            },
            "text/plain": [
              "'Likhith'"
            ]
          },
          "metadata": {
            "tags": []
          },
          "execution_count": 28
        }
      ]
    },
    {
      "cell_type": "code",
      "metadata": {
        "id": "HEiuSXXRe41C",
        "colab_type": "code",
        "colab": {}
      },
      "source": [
        "dic.clear()       # makes the dictionary empty by removing all the key-value pairs \n",
        "dic               # now it prints the empty dictionary"
      ],
      "execution_count": 29,
      "outputs": []
    }
  ]
}